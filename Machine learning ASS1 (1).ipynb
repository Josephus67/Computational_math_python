{
 "cells": [
  {
   "cell_type": "markdown",
   "id": "c713527e-5315-4b21-987c-5059728f0788",
   "metadata": {},
   "source": [
    "##ITERATIVE METHOD"
   ]
  },
  {
   "cell_type": "code",
   "execution_count": 25,
   "id": "1fbed431-7bbf-43b0-ae31-f3e6d10eade8",
   "metadata": {},
   "outputs": [
    {
     "data": {
      "text/plain": [
       "120"
      ]
     },
     "execution_count": 25,
     "metadata": {},
     "output_type": "execute_result"
    }
   ],
   "source": [
    "def iterative(n):\n",
    "    factorial = 1\n",
    "    exception = f\"The number {n} deosn't have a factorial\"\n",
    "    if n < 0:\n",
    "        return exception\n",
    "    for i in range(1,n+1):\n",
    "        factorial *=i\n",
    "    return factorial\n",
    "iterative(5)"
   ]
  },
  {
   "cell_type": "markdown",
   "id": "e24e6510-021d-49fb-b7cd-fb6c20a4d9be",
   "metadata": {},
   "source": [
    "##RECURSIVE APPROACH"
   ]
  },
  {
   "cell_type": "code",
   "execution_count": 50,
   "id": "46cf03ff-234b-45b4-8198-ebfac08a2614",
   "metadata": {},
   "outputs": [
    {
     "data": {
      "text/plain": [
       "120"
      ]
     },
     "execution_count": 50,
     "metadata": {},
     "output_type": "execute_result"
    }
   ],
   "source": [
    "def recursive(n):\n",
    "    factorial = 1\n",
    "    exception = f\"The number {n} deosn't have a factorial\"\n",
    "    if n<0:\n",
    "        return exception\n",
    "    if n==0 or n==1:\n",
    "        return factorial\n",
    "    return n*recursive(n-1)\n",
    "\n",
    "recursive(5)"
   ]
  },
  {
   "cell_type": "markdown",
   "id": "24f4e0a6-5b90-4f65-ae41-fbaef79442e1",
   "metadata": {},
   "source": [
    "The difference between iterative and \n",
    "recursive approaches with example"
   ]
  },
  {
   "cell_type": "markdown",
   "id": "7260d2d7-cab8-4c3b-87d3-373fbe853ba8",
   "metadata": {},
   "source": [
    "The Iterative approach in essence involves the use of the for loop to iterate or loop over a specific condition in the for loop until the loop runs out\n",
    "In the factorial example, the for loop iterates over the condition that if \"i\" is in the given range, i should be multiplied by another i in the given range until all elements in the range have been exhausted\n",
    "Alternatively, the Recursive Approach calls on one function and continuously performs the expression until a condition is met or the loops runs out. In the factorial example, the recursive method calls on the defined function \"recursive\" to be multiplied by n and after each operation 1 is subtracted from the value of n in the recursive function and the cycle continues. If we had not defined that \"n\" cannot be zero, the cycle would have continued infinitely, but the existense of that pre condition forces it to come to a halt or terminate.  "
   ]
  },
  {
   "cell_type": "code",
   "execution_count": null,
   "id": "51d4a39e-f0fb-4f76-9f54-a4d4923f81ea",
   "metadata": {},
   "outputs": [],
   "source": []
  }
 ],
 "metadata": {
  "kernelspec": {
   "display_name": "Python 3 (ipykernel)",
   "language": "python",
   "name": "python3"
  },
  "language_info": {
   "codemirror_mode": {
    "name": "ipython",
    "version": 3
   },
   "file_extension": ".py",
   "mimetype": "text/x-python",
   "name": "python",
   "nbconvert_exporter": "python",
   "pygments_lexer": "ipython3",
   "version": "3.11.7"
  }
 },
 "nbformat": 4,
 "nbformat_minor": 5
}
